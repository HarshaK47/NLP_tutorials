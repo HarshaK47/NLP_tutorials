{
 "cells": [
  {
   "cell_type": "code",
   "execution_count": 3,
   "id": "691fb0ea",
   "metadata": {},
   "outputs": [],
   "source": [
    "import tensorflow as tf"
   ]
  },
  {
   "cell_type": "code",
   "execution_count": 4,
   "id": "cab8a07c",
   "metadata": {},
   "outputs": [],
   "source": [
    "from tensorflow import keras"
   ]
  },
  {
   "cell_type": "code",
   "execution_count": 5,
   "id": "8a26967b",
   "metadata": {},
   "outputs": [],
   "source": [
    "from tensorflow.keras.preprocessing.text import Tokenizer"
   ]
  },
  {
   "cell_type": "code",
   "execution_count": 7,
   "id": "43ca4954",
   "metadata": {},
   "outputs": [],
   "source": [
    "sentences = {\n",
    "    'I love my cat',\n",
    "    'I love my dog'\n",
    "}"
   ]
  },
  {
   "cell_type": "code",
   "execution_count": 8,
   "id": "dc7ae085",
   "metadata": {},
   "outputs": [],
   "source": [
    "tokenizer = Tokenizer(num_words = 100)\n",
    "tokenizer.fit_on_texts(sentences)\n",
    "word_index = tokenizer.word_index\n"
   ]
  },
  {
   "cell_type": "code",
   "execution_count": 9,
   "id": "b79cf1b2",
   "metadata": {},
   "outputs": [
    {
     "name": "stdout",
     "output_type": "stream",
     "text": [
      "{'i': 1, 'love': 2, 'my': 3, 'cat': 4, 'dog': 5}\n"
     ]
    }
   ],
   "source": [
    "print(word_index)"
   ]
  },
  {
   "cell_type": "markdown",
   "id": "123ec656",
   "metadata": {},
   "source": [
    "### We get a dictionary with key as words and value is token for that word"
   ]
  },
  {
   "cell_type": "code",
   "execution_count": 12,
   "id": "49ca6a97",
   "metadata": {},
   "outputs": [],
   "source": [
    "senten = {\n",
    "    'I love my Dog!',\n",
    "    'I love my dog and cow!',\n",
    "    'I Love my CAT'\n",
    "}"
   ]
  },
  {
   "cell_type": "code",
   "execution_count": 13,
   "id": "de8ee803",
   "metadata": {},
   "outputs": [
    {
     "name": "stdout",
     "output_type": "stream",
     "text": [
      "{'i': 1, 'love': 2, 'my': 3, 'dog': 4, 'cat': 5, 'and': 6, 'cow': 7}\n"
     ]
    }
   ],
   "source": [
    "tokenizer.fit_on_texts(senten)\n",
    "word_in = tokenizer.word_index\n",
    "print(word_in)"
   ]
  },
  {
   "cell_type": "markdown",
   "id": "017c435c",
   "metadata": {},
   "source": [
    "Tokenizer is smart enough as it does not treat capitals and exclamation along as distinct word."
   ]
  },
  {
   "cell_type": "code",
   "execution_count": null,
   "id": "be02aa8d",
   "metadata": {},
   "outputs": [],
   "source": []
  }
 ],
 "metadata": {
  "kernelspec": {
   "display_name": "Python 3 (ipykernel)",
   "language": "python",
   "name": "python3"
  },
  "language_info": {
   "codemirror_mode": {
    "name": "ipython",
    "version": 3
   },
   "file_extension": ".py",
   "mimetype": "text/x-python",
   "name": "python",
   "nbconvert_exporter": "python",
   "pygments_lexer": "ipython3",
   "version": "3.8.10"
  }
 },
 "nbformat": 4,
 "nbformat_minor": 5
}
